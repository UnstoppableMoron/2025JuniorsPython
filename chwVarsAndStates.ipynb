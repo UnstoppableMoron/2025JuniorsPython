{
 "cells": [
  {
   "cell_type": "markdown",
   "id": "8efb7dc3",
   "metadata": {},
   "source": [
    "# 2. Variables and Statements"
   ]
  },
  {
   "cell_type": "markdown",
   "id": "84025534",
   "metadata": {},
   "source": [
    "## 2.1 Variables\n",
    "\n",
    "<b>Variable</b> - a name that refers to a value "
   ]
  },
  {
   "cell_type": "code",
   "execution_count": 1,
   "id": "e27e75b5",
   "metadata": {},
   "outputs": [],
   "source": [
    "n = 17\n",
    "\n",
    "# n is the name of the variable\n",
    "# The variable name refers to a space in computer memory that holds a value"
   ]
  },
  {
   "cell_type": "markdown",
   "id": "b0488cd3",
   "metadata": {},
   "source": [
    "### Assignment Statement"
   ]
  },
  {
   "cell_type": "markdown",
   "id": "0a89fccc",
   "metadata": {},
   "source": [
    "The assignment statement has three parts:\n",
    "* the name of the variable\n",
    "* the equal sign --> the assignment operator\n",
    "* an expression to the right of the assignment operator"
   ]
  },
  {
   "cell_type": "code",
   "execution_count": 14,
   "id": "49df4502",
   "metadata": {},
   "outputs": [],
   "source": [
    "pi = 3.141592653589793\n",
    "\n",
    "# our expression will be a string - still an expression but a series of characters\n",
    "# contained in quotes\n",
    "message = \"And now for something completely different\""
   ]
  },
  {
   "cell_type": "code",
   "execution_count": 15,
   "id": "356a8c04",
   "metadata": {},
   "outputs": [
    {
     "data": {
      "text/plain": [
       "'And now for something completely different'"
      ]
     },
     "execution_count": 15,
     "metadata": {},
     "output_type": "execute_result"
    }
   ],
   "source": [
    "message"
   ]
  },
  {
   "cell_type": "code",
   "execution_count": 4,
   "id": "916ba14a",
   "metadata": {},
   "outputs": [
    {
     "data": {
      "text/plain": [
       "17"
      ]
     },
     "execution_count": 4,
     "metadata": {},
     "output_type": "execute_result"
    }
   ],
   "source": [
    "n"
   ]
  },
  {
   "cell_type": "code",
   "execution_count": 5,
   "id": "b43d9caf",
   "metadata": {},
   "outputs": [
    {
     "data": {
      "text/plain": [
       "3.141592653589793"
      ]
     },
     "execution_count": 5,
     "metadata": {},
     "output_type": "execute_result"
    }
   ],
   "source": [
    "pi"
   ]
  },
  {
   "cell_type": "code",
   "execution_count": 6,
   "id": "aa802694",
   "metadata": {},
   "outputs": [
    {
     "data": {
      "text/plain": [
       "42"
      ]
     },
     "execution_count": 6,
     "metadata": {},
     "output_type": "execute_result"
    }
   ],
   "source": [
    "n + 25"
   ]
  },
  {
   "cell_type": "code",
   "execution_count": 7,
   "id": "37438f99",
   "metadata": {},
   "outputs": [
    {
     "data": {
      "text/plain": [
       "6.283185307179586"
      ]
     },
     "execution_count": 7,
     "metadata": {},
     "output_type": "execute_result"
    }
   ],
   "source": [
    "2 * pi"
   ]
  },
  {
   "cell_type": "code",
   "execution_count": 8,
   "id": "22db8100",
   "metadata": {},
   "outputs": [
    {
     "data": {
      "text/plain": [
       "3"
      ]
     },
     "execution_count": 8,
     "metadata": {},
     "output_type": "execute_result"
    }
   ],
   "source": [
    "round(pi)"
   ]
  },
  {
   "cell_type": "code",
   "execution_count": 16,
   "id": "31996a76",
   "metadata": {},
   "outputs": [
    {
     "data": {
      "text/plain": [
       "42"
      ]
     },
     "execution_count": 16,
     "metadata": {},
     "output_type": "execute_result"
    }
   ],
   "source": [
    "len(message)"
   ]
  },
  {
   "cell_type": "markdown",
   "id": "0683ef4f",
   "metadata": {},
   "source": [
    "## 2.2 State Diagrams\n",
    "\n",
    "<b>State Diagram</b> - a figure that shows what state each variable is in"
   ]
  },
  {
   "attachments": {
    "image.png": {
     "image/png": "[encoded data removed]"
    }
   },
   "cell_type": "markdown",
   "id": "211d9c89",
   "metadata": {},
   "source": [
    "![image.png](attachment:image.png)"
   ]
  },
  {
   "cell_type": "markdown",
   "id": "b33c4b1e",
   "metadata": {},
   "source": [
    "## 2.3 Variable Names"
   ]
  },
  {
   "cell_type": "markdown",
   "id": "bde7b8bc",
   "metadata": {},
   "source": [
    "There are rules to naming variables:\n",
    "* The only punctuation that can appear in a Python variable name is _\n",
    "* You cannot start a variable name with a number\n",
    "* You cannot use built-in Python keywords as a variable name\n",
    "\n",
    "### Example variable Names\n",
    "* your_name\n",
    "* yourName\n",
    "* YourName\n",
    "* mph\n",
    "* x\n",
    "\n",
    "### Bad Variable Names"
   ]
  },
  {
   "cell_type": "code",
   "execution_count": 17,
   "id": "bc8a2b9c",
   "metadata": {},
   "outputs": [
    {
     "ename": "SyntaxError",
     "evalue": "invalid syntax (347180775.py, line 1)",
     "output_type": "error",
     "traceback": [
      "  \u001b[36mCell\u001b[39m\u001b[36m \u001b[39m\u001b[32mIn[17]\u001b[39m\u001b[32m, line 1\u001b[39m\n\u001b[31m    \u001b[39m\u001b[31mmillion! = 1000000\u001b[39m\n           ^\n\u001b[31mSyntaxError\u001b[39m\u001b[31m:\u001b[39m invalid syntax\n"
     ]
    }
   ],
   "source": [
    "million! = 1000000"
   ]
  },
  {
   "cell_type": "code",
   "execution_count": 18,
   "id": "253547f9",
   "metadata": {},
   "outputs": [
    {
     "ename": "SyntaxError",
     "evalue": "invalid decimal literal (3381618747.py, line 1)",
     "output_type": "error",
     "traceback": [
      "  \u001b[36mCell\u001b[39m\u001b[36m \u001b[39m\u001b[32mIn[18]\u001b[39m\u001b[32m, line 1\u001b[39m\n\u001b[31m    \u001b[39m\u001b[31m76trombones = 'big parade'\u001b[39m\n     ^\n\u001b[31mSyntaxError\u001b[39m\u001b[31m:\u001b[39m invalid decimal literal\n"
     ]
    }
   ],
   "source": [
    "76trombones = 'big parade'"
   ]
  },
  {
   "cell_type": "code",
   "execution_count": null,
   "id": "dc7cd701",
   "metadata": {},
   "outputs": [],
   "source": [
    "trombones76 = 'big parade'\n",
    "# this is legal"
   ]
  },
  {
   "cell_type": "code",
   "execution_count": 20,
   "id": "667593da",
   "metadata": {},
   "outputs": [
    {
     "data": {
      "text/plain": [
       "'big parade'"
      ]
     },
     "execution_count": 20,
     "metadata": {},
     "output_type": "execute_result"
    }
   ],
   "source": [
    "trombones76"
   ]
  },
  {
   "cell_type": "code",
   "execution_count": null,
   "id": "0d0b5018",
   "metadata": {},
   "outputs": [
    {
     "ename": "SyntaxError",
     "evalue": "invalid syntax (1917134719.py, line 1)",
     "output_type": "error",
     "traceback": [
      "  \u001b[36mCell\u001b[39m\u001b[36m \u001b[39m\u001b[32mIn[24]\u001b[39m\u001b[32m, line 1\u001b[39m\n\u001b[31m    \u001b[39m\u001b[31mclass = 'Self-Defense Against Fresh Fruit'\u001b[39m\n          ^\n\u001b[31mSyntaxError\u001b[39m\u001b[31m:\u001b[39m invalid syntax\n"
     ]
    }
   ],
   "source": [
    "class = 'Self-Defense Against Fresh Fruit'\n",
    "# class is a Python keyword, but is different from an HTML class"
   ]
  },
  {
   "cell_type": "code",
   "execution_count": 26,
   "id": "c3240043",
   "metadata": {},
   "outputs": [],
   "source": [
    "print = 'This is my print statement'"
   ]
  },
  {
   "cell_type": "code",
   "execution_count": 27,
   "id": "bb5ece29",
   "metadata": {},
   "outputs": [
    {
     "data": {
      "text/plain": [
       "'This is my print statement'"
      ]
     },
     "execution_count": 27,
     "metadata": {},
     "output_type": "execute_result"
    }
   ],
   "source": [
    "print"
   ]
  },
  {
   "cell_type": "code",
   "execution_count": 30,
   "id": "02701d1f",
   "metadata": {},
   "outputs": [
    {
     "ename": "SyntaxError",
     "evalue": "cannot assign to True (3870963749.py, line 1)",
     "output_type": "error",
     "traceback": [
      "  \u001b[36mCell\u001b[39m\u001b[36m \u001b[39m\u001b[32mIn[30]\u001b[39m\u001b[32m, line 1\u001b[39m\n\u001b[31m    \u001b[39m\u001b[31mTrue = 'This is my boolean statement'\u001b[39m\n    ^\n\u001b[31mSyntaxError\u001b[39m\u001b[31m:\u001b[39m cannot assign to True\n"
     ]
    }
   ],
   "source": [
    "True = 'This is my boolean statement'\n",
    "# True is a boolean value, and thus cannot be used as a variable name"
   ]
  },
  {
   "cell_type": "markdown",
   "id": "eed26b8d",
   "metadata": {},
   "source": []
  }
 ],
 "metadata": {
  "kernelspec": {
   "display_name": "Python 3",
   "language": "python",
   "name": "python3"
  },
  "language_info": {
   "codemirror_mode": {
    "name": "ipython",
    "version": 3
   },
   "file_extension": ".py",
   "mimetype": "text/x-python",
   "name": "python",
   "nbconvert_exporter": "python",
   "pygments_lexer": "ipython3",
   "version": "3.12.1"
  }
 },
 "nbformat": 4,
 "nbformat_minor": 5
}
