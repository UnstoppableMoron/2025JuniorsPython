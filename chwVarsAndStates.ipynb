{
 "cells": [
  {
   "cell_type": "markdown",
   "id": "8efb7dc3",
   "metadata": {},
   "source": [
    "# 2. Variables and Statements"
   ]
  },
  {
   "cell_type": "markdown",
   "id": "84025534",
   "metadata": {},
   "source": []
  }
 ],
 "metadata": {
  "language_info": {
   "name": "python"
  }
 },
 "nbformat": 4,
 "nbformat_minor": 5
}
