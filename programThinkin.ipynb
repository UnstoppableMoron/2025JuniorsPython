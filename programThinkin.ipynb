{
 "cells": [
  {
   "cell_type": "markdown",
   "id": "6da3ffd3",
   "metadata": {},
   "source": [
    "## 1.5 Values and Types\n",
    "\n",
    "Multiple types of data:\n",
    "* Integers\n",
    "* Floats\n",
    "* Strings\n",
    "* Booleans\n",
    "* NULL\n",
    "\n",
    "<b>Type</b> - the kind of value of the data that we're using. Values can belong to a type of data."
   ]
  },
  {
   "cell_type": "code",
   "execution_count": 1,
   "id": "9222a775",
   "metadata": {},
   "outputs": [
    {
     "data": {
      "text/plain": [
       "int"
      ]
     },
     "execution_count": 1,
     "metadata": {},
     "output_type": "execute_result"
    }
   ],
   "source": [
    "# Python type function\n",
    "\n",
    "type(2)"
   ]
  },
  {
   "cell_type": "code",
   "execution_count": 2,
   "id": "be4e103d",
   "metadata": {},
   "outputs": [
    {
     "data": {
      "text/plain": [
       "float"
      ]
     },
     "execution_count": 2,
     "metadata": {},
     "output_type": "execute_result"
    }
   ],
   "source": [
    "type(2.4)"
   ]
  },
  {
   "cell_type": "code",
   "execution_count": 3,
   "id": "1c9a0c61",
   "metadata": {},
   "outputs": [
    {
     "data": {
      "text/plain": [
       "bool"
      ]
     },
     "execution_count": 3,
     "metadata": {},
     "output_type": "execute_result"
    }
   ],
   "source": [
    "type(True)"
   ]
  },
  {
   "cell_type": "code",
   "execution_count": 4,
   "id": "2b65d5cf",
   "metadata": {},
   "outputs": [
    {
     "data": {
      "text/plain": [
       "str"
      ]
     },
     "execution_count": 4,
     "metadata": {},
     "output_type": "execute_result"
    }
   ],
   "source": [
    "type(\"Elijah's haircut\")"
   ]
  },
  {
   "cell_type": "code",
   "execution_count": 5,
   "id": "a865963f",
   "metadata": {},
   "outputs": [
    {
     "data": {
      "text/plain": [
       "42"
      ]
     },
     "execution_count": 5,
     "metadata": {},
     "output_type": "execute_result"
    }
   ],
   "source": [
    "int(42.9)"
   ]
  },
  {
   "cell_type": "code",
   "execution_count": 6,
   "id": "2c5c01ba",
   "metadata": {},
   "outputs": [
    {
     "data": {
      "text/plain": [
       "42.0"
      ]
     },
     "execution_count": 6,
     "metadata": {},
     "output_type": "execute_result"
    }
   ],
   "source": [
    "float(42)"
   ]
  },
  {
   "cell_type": "code",
   "execution_count": 7,
   "id": "5c412785",
   "metadata": {},
   "outputs": [
    {
     "data": {
      "text/plain": [
       "'42'"
      ]
     },
     "execution_count": 7,
     "metadata": {},
     "output_type": "execute_result"
    }
   ],
   "source": [
    "str(42)"
   ]
  },
  {
   "cell_type": "code",
   "execution_count": 8,
   "id": "d3619d61",
   "metadata": {},
   "outputs": [
    {
     "data": {
      "text/plain": [
       "'425'"
      ]
     },
     "execution_count": 8,
     "metadata": {},
     "output_type": "execute_result"
    }
   ],
   "source": [
    "'42' + '5'"
   ]
  },
  {
   "cell_type": "code",
   "execution_count": 9,
   "id": "9e2f623e",
   "metadata": {},
   "outputs": [
    {
     "ename": "TypeError",
     "evalue": "unsupported operand type(s) for /: 'str' and 'int'",
     "output_type": "error",
     "traceback": [
      "\u001b[31m---------------------------------------------------------------------------\u001b[39m",
      "\u001b[31mTypeError\u001b[39m                                 Traceback (most recent call last)",
      "\u001b[36mCell\u001b[39m\u001b[36m \u001b[39m\u001b[32mIn[9]\u001b[39m\u001b[32m, line 1\u001b[39m\n\u001b[32m----> \u001b[39m\u001b[32m1\u001b[39m \u001b[33;43m'\u001b[39;49m\u001b[33;43m126\u001b[39;49m\u001b[33;43m'\u001b[39;49m\u001b[43m \u001b[49m\u001b[43m/\u001b[49m\u001b[43m \u001b[49m\u001b[32;43m3\u001b[39;49m\n",
      "\u001b[31mTypeError\u001b[39m: unsupported operand type(s) for /: 'str' and 'int'"
     ]
    }
   ],
   "source": [
    "'126' / 3"
   ]
  },
  {
   "cell_type": "code",
   "execution_count": 10,
   "id": "29f3e6df",
   "metadata": {},
   "outputs": [
    {
     "data": {
      "text/plain": [
       "42.0"
      ]
     },
     "execution_count": 10,
     "metadata": {},
     "output_type": "execute_result"
    }
   ],
   "source": [
    "int('126') / 3"
   ]
  },
  {
   "cell_type": "code",
   "execution_count": null,
   "id": "86e4a470",
   "metadata": {},
   "outputs": [
    {
     "ename": "TypeError",
     "evalue": "unsupported operand type(s) for -: 'int' and 'str'",
     "output_type": "error",
     "traceback": [
      "\u001b[31m---------------------------------------------------------------------------\u001b[39m",
      "\u001b[31mTypeError\u001b[39m                                 Traceback (most recent call last)",
      "\u001b[36mCell\u001b[39m\u001b[36m \u001b[39m\u001b[32mIn[11]\u001b[39m\u001b[32m, line 3\u001b[39m\n\u001b[32m      1\u001b[39m age = \u001b[38;5;28minput\u001b[39m(\u001b[33m\"\u001b[39m\u001b[33mPlease enter your age: \u001b[39m\u001b[33m\"\u001b[39m)\n\u001b[32m----> \u001b[39m\u001b[32m3\u001b[39m birthYear = \u001b[32;43m2025\u001b[39;49m\u001b[43m \u001b[49m\u001b[43m-\u001b[49m\u001b[43m \u001b[49m\u001b[43mage\u001b[49m\n\u001b[32m      5\u001b[39m \u001b[38;5;28mprint\u001b[39m(birthYear)\n",
      "\u001b[31mTypeError\u001b[39m: unsupported operand type(s) for -: 'int' and 'str'"
     ]
    }
   ],
   "source": [
    "age = input(\"Please enter your age: \")\n",
    "# All data collected from an input statement is always a string\n",
    "birthYear = 2025 - age\n",
    "print(birthYear)"
   ]
  },
  {
   "cell_type": "code",
   "execution_count": 12,
   "id": "c336c87f",
   "metadata": {},
   "outputs": [
    {
     "name": "stdout",
     "output_type": "stream",
     "text": [
      "2008\n"
     ]
    }
   ],
   "source": [
    "age = int(input(\"Please enter your age: \"))\n",
    "# All data collected from an input statement is always a string\n",
    "birthYear = 2025 - age\n",
    "print(birthYear)"
   ]
  },
  {
   "cell_type": "code",
   "execution_count": 13,
   "id": "4fed5ba8",
   "metadata": {},
   "outputs": [
    {
     "data": {
      "text/plain": [
       "(1, 0, 0)"
      ]
     },
     "execution_count": 13,
     "metadata": {},
     "output_type": "execute_result"
    }
   ],
   "source": [
    "1,000,000"
   ]
  },
  {
   "cell_type": "code",
   "execution_count": 14,
   "id": "5238fd0a",
   "metadata": {},
   "outputs": [
    {
     "data": {
      "text/plain": [
       "1000000"
      ]
     },
     "execution_count": 14,
     "metadata": {},
     "output_type": "execute_result"
    }
   ],
   "source": [
    "1000000"
   ]
  },
  {
   "cell_type": "code",
   "execution_count": 15,
   "id": "302cf5cd",
   "metadata": {},
   "outputs": [
    {
     "ename": "SyntaxError",
     "evalue": "invalid syntax (1797962719.py, line 1)",
     "output_type": "error",
     "traceback": [
      "  \u001b[36mCell\u001b[39m\u001b[36m \u001b[39m\u001b[32mIn[15]\u001b[39m\u001b[32m, line 1\u001b[39m\n\u001b[31m    \u001b[39m\u001b[31m1.000.000\u001b[39m\n         ^\n\u001b[31mSyntaxError\u001b[39m\u001b[31m:\u001b[39m invalid syntax\n"
     ]
    }
   ],
   "source": [
    "1.000.000"
   ]
  },
  {
   "cell_type": "code",
   "execution_count": 16,
   "id": "dbbc0b6b",
   "metadata": {},
   "outputs": [
    {
     "data": {
      "text/plain": [
       "1024"
      ]
     },
     "execution_count": 16,
     "metadata": {},
     "output_type": "execute_result"
    }
   ],
   "source": [
    "1024"
   ]
  },
  {
   "cell_type": "code",
   "execution_count": 17,
   "id": "969424fb",
   "metadata": {},
   "outputs": [
    {
     "data": {
      "text/plain": [
       "42"
      ]
     },
     "execution_count": 17,
     "metadata": {},
     "output_type": "execute_result"
    }
   ],
   "source": [
    "round(42.5)"
   ]
  },
  {
   "cell_type": "markdown",
   "id": "3c282bf3",
   "metadata": {},
   "source": [
    "## 1.9.5 Exercise"
   ]
  },
  {
   "cell_type": "markdown",
   "id": "9be5ba77",
   "metadata": {},
   "source": [
    "The following questions give you a chance to practice writing arithmetic expressions.\n",
    "\n",
    "1. How many seconds are there in 42 minutes 42 seconds?\n",
    "2. How many miles are there in 10 kilometers? HINT: There are 1.61 kilometers in a single mile.\n",
    "3. If you run a 10 kilometer race in 42 minutes, 42 seconds, what is your average pace in seconds per mile?\n",
    "4. What is your average pace in minutes and seconds per mile?\n",
    "5. What is your average speed in miles per hour?"
   ]
  },
  {
   "cell_type": "code",
   "execution_count": 27,
   "id": "65163f8e",
   "metadata": {},
   "outputs": [
    {
     "name": "stdout",
     "output_type": "stream",
     "text": [
      "2562 seconds in 42 minutes and 42 seconds.\n"
     ]
    }
   ],
   "source": [
    "# Question 1\n",
    "seconds = 42 * 60\n",
    "tot_secs = seconds + 42\n",
    "print(str(tot_secs) + \" seconds in 42 minutes and 42 seconds.\")"
   ]
  },
  {
   "cell_type": "code",
   "execution_count": 36,
   "id": "6ced07a7",
   "metadata": {},
   "outputs": [
    {
     "name": "stdout",
     "output_type": "stream",
     "text": [
      "6.21\n"
     ]
    }
   ],
   "source": [
    "# Question 2\n",
    "miles = round(10/1.61, 2)\n",
    "\n",
    "print(miles)"
   ]
  },
  {
   "cell_type": "code",
   "execution_count": 37,
   "id": "ec68b1f1",
   "metadata": {},
   "outputs": [
    {
     "name": "stdout",
     "output_type": "stream",
     "text": [
      "412.56 seconds per mile\n"
     ]
    }
   ],
   "source": [
    "# Question 3\n",
    "secsPerMile = tot_secs / miles\n",
    "\n",
    "print(round(secsPerMile, 2), \"seconds per mile\")"
   ]
  },
  {
   "cell_type": "code",
   "execution_count": 33,
   "id": "44756fe5",
   "metadata": {},
   "outputs": [
    {
     "name": "stdout",
     "output_type": "stream",
     "text": [
      "6.87 minutes is the pace per mile.\n"
     ]
    }
   ],
   "source": [
    "# Question 4\n",
    "avg_pace = secsPerMile / 60\n",
    "\n",
    "print(round(avg_pace, 2), \"minutes is the pace per mile.\")"
   ]
  },
  {
   "cell_type": "code",
   "execution_count": 38,
   "id": "a4e90871",
   "metadata": {},
   "outputs": [
    {
     "name": "stdout",
     "output_type": "stream",
     "text": [
      "0.11457833333333335\n"
     ]
    }
   ],
   "source": [
    "# Question 5\n",
    "avg_mph = (avg_pace / 60)\n",
    "print(avg_mph)"
   ]
  },
  {
   "cell_type": "code",
   "execution_count": 42,
   "id": "d0ab7bd4",
   "metadata": {},
   "outputs": [
    {
     "name": "stdout",
     "output_type": "stream",
     "text": [
      "Average speed in MPH:  8.73\n"
     ]
    }
   ],
   "source": [
    "hours = tot_secs / 3600 # convert total time to hours\n",
    "avg_speed_mph = miles/hours\n",
    "\n",
    "print(\"Average speed in MPH: \", round(avg_speed_mph, 2))"
   ]
  },
  {
   "cell_type": "code",
   "execution_count": null,
   "id": "151943bc",
   "metadata": {},
   "outputs": [],
   "source": []
  }
 ],
 "metadata": {
  "kernelspec": {
   "display_name": "Python 3",
   "language": "python",
   "name": "python3"
  },
  "language_info": {
   "codemirror_mode": {
    "name": "ipython",
    "version": 3
   },
   "file_extension": ".py",
   "mimetype": "text/x-python",
   "name": "python",
   "nbconvert_exporter": "python",
   "pygments_lexer": "ipython3",
   "version": "3.12.1"
  }
 },
 "nbformat": 4,
 "nbformat_minor": 5
}
