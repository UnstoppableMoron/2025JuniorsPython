{
 "cells": [
  {
   "cell_type": "markdown",
   "id": "71dbcadc",
   "metadata": {},
   "source": [
    "# Programmatic Thinking"
   ]
  },
  {
   "cell_type": "markdown",
   "id": "17377868",
   "metadata": {},
   "source": [
    "## 1.1 Arithmetic Operators\n",
    "\n",
    "<font color=\"purple\">Arithmetic operator</font> - Symbols that represent a basic arithmetic operation. + - / * ** //"
   ]
  },
  {
   "cell_type": "code",
   "execution_count": 1,
   "id": "9cf202ff",
   "metadata": {},
   "outputs": [
    {
     "data": {
      "text/plain": [
       "42"
      ]
     },
     "execution_count": 1,
     "metadata": {},
     "output_type": "execute_result"
    }
   ],
   "source": [
    "30 + 12"
   ]
  },
  {
   "cell_type": "code",
   "execution_count": 2,
   "id": "3e580eea",
   "metadata": {},
   "outputs": [
    {
     "data": {
      "text/plain": [
       "42"
      ]
     },
     "execution_count": 2,
     "metadata": {},
     "output_type": "execute_result"
    }
   ],
   "source": [
    "43 - 1"
   ]
  },
  {
   "cell_type": "code",
   "execution_count": 3,
   "id": "6a57e912",
   "metadata": {},
   "outputs": [
    {
     "data": {
      "text/plain": [
       "42"
      ]
     },
     "execution_count": 3,
     "metadata": {},
     "output_type": "execute_result"
    }
   ],
   "source": [
    "6 * 7"
   ]
  },
  {
   "cell_type": "code",
   "execution_count": 4,
   "id": "12b068f2",
   "metadata": {},
   "outputs": [
    {
     "data": {
      "text/plain": [
       "42.0"
      ]
     },
     "execution_count": 4,
     "metadata": {},
     "output_type": "execute_result"
    }
   ],
   "source": [
    "84 / 2"
   ]
  },
  {
   "cell_type": "markdown",
   "id": "3e3f2070",
   "metadata": {},
   "source": [
    "<b>Integers</b> - Represent numbers with no fractional or decimal part\n",
    "\n",
    "<b>Floating-point numbers</b> - Represent integers and numbers with a decimal point"
   ]
  },
  {
   "cell_type": "code",
   "execution_count": 5,
   "id": "8f903f39",
   "metadata": {},
   "outputs": [
    {
     "data": {
      "text/plain": [
       "42"
      ]
     },
     "execution_count": 5,
     "metadata": {},
     "output_type": "execute_result"
    }
   ],
   "source": [
    "84 // 2 # Floor Division (Integer Division) - it divides and only gives you the numbers before the decimal point"
   ]
  },
  {
   "cell_type": "code",
   "execution_count": 6,
   "id": "5237251a",
   "metadata": {},
   "outputs": [
    {
     "data": {
      "text/plain": [
       "42"
      ]
     },
     "execution_count": 6,
     "metadata": {},
     "output_type": "execute_result"
    }
   ],
   "source": [
    "85 // 2 "
   ]
  },
  {
   "cell_type": "code",
   "execution_count": 7,
   "id": "0e6acfea",
   "metadata": {},
   "outputs": [
    {
     "data": {
      "text/plain": [
       "49"
      ]
     },
     "execution_count": 7,
     "metadata": {},
     "output_type": "execute_result"
    }
   ],
   "source": [
    "# Exponents - When you raise a number to a power of another numbers\n",
    "7 ** 2"
   ]
  },
  {
   "cell_type": "code",
   "execution_count": 8,
   "id": "efa76945",
   "metadata": {},
   "outputs": [
    {
     "data": {
      "text/plain": [
       "129.64181424216494"
      ]
     },
     "execution_count": 8,
     "metadata": {},
     "output_type": "execute_result"
    }
   ],
   "source": [
    "7 ** 2.5"
   ]
  },
  {
   "cell_type": "code",
   "execution_count": null,
   "id": "7c204a52",
   "metadata": {},
   "outputs": [],
   "source": [
    "# 7 ^ 2 - In some languages, a carrot(^) is used for exponents"
   ]
  },
  {
   "cell_type": "markdown",
   "id": "69733122",
   "metadata": {},
   "source": [
    "## 1.2 Expressions"
   ]
  },
  {
   "cell_type": "markdown",
   "id": "2de28784",
   "metadata": {},
   "source": [
    "<b>Expression</b> - A collection of operators and numbers"
   ]
  },
  {
   "cell_type": "code",
   "execution_count": 10,
   "id": "3eb61420",
   "metadata": {},
   "outputs": [
    {
     "data": {
      "text/plain": [
       "42"
      ]
     },
     "execution_count": 10,
     "metadata": {},
     "output_type": "execute_result"
    }
   ],
   "source": [
    "6 + 6 ** 2"
   ]
  },
  {
   "cell_type": "code",
   "execution_count": 11,
   "id": "15eacb9c",
   "metadata": {},
   "outputs": [
    {
     "data": {
      "text/plain": [
       "42"
      ]
     },
     "execution_count": 11,
     "metadata": {},
     "output_type": "execute_result"
    }
   ],
   "source": [
    "12 + 5 * 6"
   ]
  },
  {
   "cell_type": "code",
   "execution_count": 12,
   "id": "fdd48dc3",
   "metadata": {},
   "outputs": [
    {
     "data": {
      "text/plain": [
       "102"
      ]
     },
     "execution_count": 12,
     "metadata": {},
     "output_type": "execute_result"
    }
   ],
   "source": [
    "(12 + 5) * 6"
   ]
  },
  {
   "cell_type": "markdown",
   "id": "f2b5a404",
   "metadata": {},
   "source": [
    "## 1.3 Arithmetic Functions"
   ]
  },
  {
   "cell_type": "code",
   "execution_count": 13,
   "id": "0faa6710",
   "metadata": {},
   "outputs": [
    {
     "data": {
      "text/plain": [
       "42"
      ]
     },
     "execution_count": 13,
     "metadata": {},
     "output_type": "execute_result"
    }
   ],
   "source": [
    "round(42.4) # Round the number in the parenthesis"
   ]
  },
  {
   "cell_type": "code",
   "execution_count": 14,
   "id": "bb4244d9",
   "metadata": {},
   "outputs": [
    {
     "data": {
      "text/plain": [
       "42"
      ]
     },
     "execution_count": 14,
     "metadata": {},
     "output_type": "execute_result"
    }
   ],
   "source": [
    "round(41.6) "
   ]
  },
  {
   "cell_type": "code",
   "execution_count": 15,
   "id": "8c958538",
   "metadata": {},
   "outputs": [
    {
     "data": {
      "text/plain": [
       "42"
      ]
     },
     "execution_count": 15,
     "metadata": {},
     "output_type": "execute_result"
    }
   ],
   "source": [
    "round(41.5)"
   ]
  },
  {
   "cell_type": "code",
   "execution_count": 16,
   "id": "02c794e6",
   "metadata": {},
   "outputs": [
    {
     "data": {
      "text/plain": [
       "42"
      ]
     },
     "execution_count": 16,
     "metadata": {},
     "output_type": "execute_result"
    }
   ],
   "source": [
    "# The abs function - Computes the absolute value of a number\n",
    "abs(42)"
   ]
  },
  {
   "cell_type": "code",
   "execution_count": 17,
   "id": "3ae9cec9",
   "metadata": {},
   "outputs": [
    {
     "data": {
      "text/plain": [
       "42"
      ]
     },
     "execution_count": 17,
     "metadata": {},
     "output_type": "execute_result"
    }
   ],
   "source": [
    "abs(-42)"
   ]
  },
  {
   "cell_type": "code",
   "execution_count": 18,
   "id": "6575f76b",
   "metadata": {},
   "outputs": [
    {
     "ename": "SyntaxError",
     "evalue": "invalid syntax (816474439.py, line 1)",
     "output_type": "error",
     "traceback": [
      "  \u001b[36mCell\u001b[39m\u001b[36m \u001b[39m\u001b[32mIn[18]\u001b[39m\u001b[32m, line 1\u001b[39m\n\u001b[31m    \u001b[39m\u001b[31mabs 42\u001b[39m\n        ^\n\u001b[31mSyntaxError\u001b[39m\u001b[31m:\u001b[39m invalid syntax\n"
     ]
    }
   ],
   "source": [
    "abs 42"
   ]
  },
  {
   "cell_type": "markdown",
   "id": "03d87059",
   "metadata": {},
   "source": [
    "## 1.4 Strings"
   ]
  },
  {
   "cell_type": "markdown",
   "id": "d270237b",
   "metadata": {},
   "source": [
    "<b>Strings</b> - In Python or in any other programming language, strings represent a sequence of characters placed inside of single or double quotation marks."
   ]
  },
  {
   "cell_type": "code",
   "execution_count": 19,
   "id": "ef454766",
   "metadata": {},
   "outputs": [
    {
     "data": {
      "text/plain": [
       "'Hello'"
      ]
     },
     "execution_count": 19,
     "metadata": {},
     "output_type": "execute_result"
    }
   ],
   "source": [
    "'Hello' # single quotes"
   ]
  },
  {
   "cell_type": "code",
   "execution_count": 20,
   "id": "c052cf4c",
   "metadata": {},
   "outputs": [
    {
     "data": {
      "text/plain": [
       "'Hello'"
      ]
     },
     "execution_count": 20,
     "metadata": {},
     "output_type": "execute_result"
    }
   ],
   "source": [
    "\"Hello\" # double quotes"
   ]
  },
  {
   "cell_type": "code",
   "execution_count": 22,
   "id": "a15809f3",
   "metadata": {},
   "outputs": [
    {
     "ename": "SyntaxError",
     "evalue": "unterminated string literal (detected at line 1) (4090697977.py, line 1)",
     "output_type": "error",
     "traceback": [
      "  \u001b[36mCell\u001b[39m\u001b[36m \u001b[39m\u001b[32mIn[22]\u001b[39m\u001b[32m, line 1\u001b[39m\n\u001b[31m    \u001b[39m\u001b[31m\"Hello'\u001b[39m\n    ^\n\u001b[31mSyntaxError\u001b[39m\u001b[31m:\u001b[39m unterminated string literal (detected at line 1)\n"
     ]
    }
   ],
   "source": [
    "\"Hello'"
   ]
  },
  {
   "cell_type": "code",
   "execution_count": 23,
   "id": "b68b7af3",
   "metadata": {},
   "outputs": [
    {
     "data": {
      "text/plain": [
       "\"It's a small world\""
      ]
     },
     "execution_count": 23,
     "metadata": {},
     "output_type": "execute_result"
    }
   ],
   "source": [
    "\"It's a small world\""
   ]
  },
  {
   "cell_type": "markdown",
   "id": "67ac231e",
   "metadata": {},
   "source": [
    "### + operator with strings:\n",
    "\n",
    "<b>Concatination</b> - taking multiple strings and putting them together"
   ]
  },
  {
   "cell_type": "code",
   "execution_count": 24,
   "id": "78a3b35a",
   "metadata": {},
   "outputs": [
    {
     "data": {
      "text/plain": [
       "\"Well, it's a small world.\""
      ]
     },
     "execution_count": 24,
     "metadata": {},
     "output_type": "execute_result"
    }
   ],
   "source": [
    "'Well, ' + \"it's a small \" + 'world.'"
   ]
  },
  {
   "cell_type": "markdown",
   "id": "ceef4372",
   "metadata": {},
   "source": [
    "### * operator with strings\n",
    "\n",
    "- it makes multiple copies of a string and concatinates them together"
   ]
  },
  {
   "cell_type": "code",
   "execution_count": 25,
   "id": "8c5fcb54",
   "metadata": {},
   "outputs": [
    {
     "data": {
      "text/plain": [
       "'Spam, Spam, Spam, Spam, '"
      ]
     },
     "execution_count": 25,
     "metadata": {},
     "output_type": "execute_result"
    }
   ],
   "source": [
    "'Spam, ' * 4"
   ]
  },
  {
   "cell_type": "markdown",
   "id": "5baa1616",
   "metadata": {},
   "source": [
    "### String functions"
   ]
  },
  {
   "cell_type": "code",
   "execution_count": 27,
   "id": "4e98f6be",
   "metadata": {},
   "outputs": [
    {
     "data": {
      "text/plain": [
       "4"
      ]
     },
     "execution_count": 27,
     "metadata": {},
     "output_type": "execute_result"
    }
   ],
   "source": [
    "len('Spam') # the length of the string"
   ]
  },
  {
   "cell_type": "code",
   "execution_count": null,
   "id": "c5804c51",
   "metadata": {},
   "outputs": [],
   "source": []
  }
 ],
 "metadata": {
  "kernelspec": {
   "display_name": "Python 3",
   "language": "python",
   "name": "python3"
  },
  "language_info": {
   "codemirror_mode": {
    "name": "ipython",
    "version": 3
   },
   "file_extension": ".py",
   "mimetype": "text/x-python",
   "name": "python",
   "nbconvert_exporter": "python",
   "pygments_lexer": "ipython3",
   "version": "3.12.1"
  }
 },
 "nbformat": 4,
 "nbformat_minor": 5
}
